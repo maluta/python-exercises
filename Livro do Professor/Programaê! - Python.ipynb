{
 "metadata": {
  "name": "Programa\u00ea! - Python"
 },
 "nbformat": 3,
 "nbformat_minor": 0,
 "worksheets": [
  {
   "cells": [
    {
     "cell_type": "heading",
     "level": 1,
     "metadata": {},
     "source": [
      "Python - Programa\u00ea! "
     ]
    },
    {
     "cell_type": "markdown",
     "metadata": {},
     "source": [
      "http://programae.org.br"
     ]
    },
    {
     "cell_type": "code",
     "collapsed": false,
     "input": [
      "print \"Ol\u00e1 Mundo\"\n",
      "# isto \u00e9 um coment\u00e1rio\n",
      "print \"Programar \u00e9 resolver problemas\""
     ],
     "language": "python",
     "metadata": {},
     "outputs": [
      {
       "output_type": "stream",
       "stream": "stdout",
       "text": [
        "Ol\u00e1 Mundo\n",
        "Programar \u00e9 resolver problemas\n"
       ]
      }
     ],
     "prompt_number": 5
    },
    {
     "cell_type": "heading",
     "level": 2,
     "metadata": {},
     "source": [
      "Matem\u00e1tica"
     ]
    },
    {
     "cell_type": "heading",
     "level": 3,
     "metadata": {},
     "source": [
      "Opera\u00e7\u00f5es b\u00e1sicas"
     ]
    },
    {
     "cell_type": "markdown",
     "metadata": {},
     "source": [
      "Trabalhe a ordem dos operadores"
     ]
    },
    {
     "cell_type": "code",
     "collapsed": false,
     "input": [
      "(5 + 10) / 3\n"
     ],
     "language": "python",
     "metadata": {},
     "outputs": [
      {
       "output_type": "pyout",
       "prompt_number": 20,
       "text": [
        "5"
       ]
      }
     ],
     "prompt_number": 20
    },
    {
     "cell_type": "code",
     "collapsed": false,
     "input": [
      "5 + 10 / 3"
     ],
     "language": "python",
     "metadata": {},
     "outputs": [
      {
       "output_type": "pyout",
       "prompt_number": 21,
       "text": [
        "8"
       ]
      }
     ],
     "prompt_number": 21
    },
    {
     "cell_type": "heading",
     "level": 3,
     "metadata": {},
     "source": [
      "Calcular a idade"
     ]
    },
    {
     "cell_type": "code",
     "collapsed": false,
     "input": [
      "idade = 2014 - 1986\n",
      "print idade"
     ],
     "language": "python",
     "metadata": {},
     "outputs": [
      {
       "output_type": "stream",
       "stream": "stdout",
       "text": [
        "28\n"
       ]
      }
     ],
     "prompt_number": 7
    },
    {
     "cell_type": "heading",
     "level": 2,
     "metadata": {},
     "source": [
      "Datas"
     ]
    },
    {
     "cell_type": "code",
     "collapsed": false,
     "input": [
      "from datetime import *\n",
      "print \"Hoje \u00e9 dia\", date.today()"
     ],
     "language": "python",
     "metadata": {},
     "outputs": [
      {
       "output_type": "stream",
       "stream": "stdout",
       "text": [
        "Hoje \u00e9 dia 2014-05-07\n"
       ]
      }
     ],
     "prompt_number": 22
    },
    {
     "cell_type": "heading",
     "level": 2,
     "metadata": {},
     "source": [
      "Texto"
     ]
    },
    {
     "cell_type": "code",
     "collapsed": false,
     "input": [
      "texto = \"\\\"Isto \u00e9 um texto\\\"\" # \u00e9 uma string\n",
      "print texto\n",
      "\n",
      "print len(texto)"
     ],
     "language": "python",
     "metadata": {},
     "outputs": [
      {
       "output_type": "stream",
       "stream": "stdout",
       "text": [
        "\"Isto \u00e9 um texto\"\n",
        "18\n"
       ]
      }
     ],
     "prompt_number": 48
    },
    {
     "cell_type": "code",
     "collapsed": false,
     "input": [],
     "language": "python",
     "metadata": {},
     "outputs": [],
     "prompt_number": 47
    },
    {
     "cell_type": "code",
     "collapsed": false,
     "input": [],
     "language": "python",
     "metadata": {},
     "outputs": []
    }
   ],
   "metadata": {}
  }
 ]
}