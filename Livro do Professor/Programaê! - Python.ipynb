{
 "metadata": {
  "name": "Programa\u00ea! - Python"
 },
 "nbformat": 3,
 "nbformat_minor": 0,
 "worksheets": [
  {
   "cells": [
    {
     "cell_type": "heading",
     "level": 1,
     "metadata": {},
     "source": [
      "Python - Programa\u00ea! "
     ]
    },
    {
     "cell_type": "markdown",
     "metadata": {},
     "source": [
      "http://programae.org.br"
     ]
    },
    {
     "cell_type": "code",
     "collapsed": false,
     "input": [
      "print \"Ol\u00e1 Mundo\"\n",
      "# isto \u00e9 um coment\u00e1rio\n",
      "print \"Programar \u00e9 resolver problemas\""
     ],
     "language": "python",
     "metadata": {},
     "outputs": [
      {
       "output_type": "stream",
       "stream": "stdout",
       "text": [
        "Ol\u00e1 Mundo\n",
        "Programar \u00e9 resolver problemas\n"
       ]
      }
     ],
     "prompt_number": 5
    },
    {
     "cell_type": "code",
     "collapsed": false,
     "input": [],
     "language": "python",
     "metadata": {},
     "outputs": [],
     "prompt_number": 3
    },
    {
     "cell_type": "code",
     "collapsed": false,
     "input": [],
     "language": "python",
     "metadata": {},
     "outputs": []
    }
   ],
   "metadata": {}
  }
 ]
}