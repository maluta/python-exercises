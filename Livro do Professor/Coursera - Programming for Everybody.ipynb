{
 "metadata": {
  "name": "Coursera - Programming for Everybody"
 },
 "nbformat": 3,
 "nbformat_minor": 0,
 "worksheets": [
  {
   "cells": [
    {
     "cell_type": "markdown",
     "metadata": {},
     "source": [
      "This are my exercices for **Coursera - Programming for Everybody**\n",
      "\n",
      "Available in https://class.coursera.org/pythonlearn-001/\n",
      "\n",
      "**Note** \n",
      "\n",
      "raw_input will not work in \"notebook\" env.\n",
      "\n",
      "-----"
     ]
    },
    {
     "cell_type": "markdown",
     "metadata": {},
     "source": [
      "**Assignment: Turn in \"Hello World\"**\n",
      "\n",
      "Write a program that uses a **print** statement to say 'hello world' as shown below."
     ]
    },
    {
     "cell_type": "code",
     "collapsed": false,
     "input": [
      "print \"hello world\""
     ],
     "language": "python",
     "metadata": {},
     "outputs": []
    },
    {
     "cell_type": "markdown",
     "metadata": {},
     "source": [
      "**Assignment 2.2**\n",
      "\n",
      "Write a program that uses **raw_input** to prompt a user for their name and then welcomes them. Note that **raw_input** will pop a dialog box. Enter *Sarah* in the pop-up box when you are prompted so your output will match the desired output below."
     ]
    },
    {
     "cell_type": "code",
     "collapsed": false,
     "input": [
      "name = raw_input(\"Enter your name\")\n",
      "print \"Hello\",name"
     ],
     "language": "python",
     "metadata": {},
     "outputs": []
    },
    {
     "cell_type": "markdown",
     "metadata": {},
     "source": [
      "**Assignment 2.3**\n",
      "\n",
      "Write a program to prompt the user for hours and rate per hour using raw_input to compute gross pay. Use 35 hours and a rate of 2.75 per hour to test the program (the pay should be 96.25). You should use **raw_input** to read a string and **float()** to convert the string to a number. Do not worry about error checking or bad user data."
     ]
    },
    {
     "cell_type": "code",
     "collapsed": false,
     "input": [
      "hrs = raw_input(\"Enter Hours:\")\n",
      "print float(hrs) * 2.75"
     ],
     "language": "python",
     "metadata": {},
     "outputs": []
    },
    {
     "cell_type": "markdown",
     "metadata": {},
     "source": [
      "**Assignment 3.1**\n",
      "\n",
      "Write a program to prompt the user for hours and rate per hour using raw_input to compute gross pay. Award time-and-a-half for the hourly rate for all hours worked above 40 hours. Use 45 hours and a rate of 10.50 per hour to test the program (the pay should be 498.75). You should use **raw_input** to read a string and **float()** to convert the string to a number. Do not worry about error checking the user input - assume the user types numbers properly."
     ]
    },
    {
     "cell_type": "code",
     "collapsed": false,
     "input": [
      "hrs = raw_input(\"Enter Hours:\")\n",
      "h = float(hrs)\n",
      "if h >= 40:\n",
      "    e = (h-40) * 10.50/2\n",
      "s\n",
      "print e + h * 10.50"
     ],
     "language": "python",
     "metadata": {},
     "outputs": []
    },
    {
     "cell_type": "markdown",
     "metadata": {},
     "source": [
      "**Assignment 3.3**\n",
      "\n",
      "Write a program to prompt the user for a score using raw_input. Print out a letter grade based on the following table:\n"
     ]
    },
    {
     "cell_type": "raw",
     "metadata": {},
     "source": [
      "Score Grade\n",
      "\n",
      "  >= 0.9 A\n",
      "  >= 0.8 B\n",
      "  >= 0.7 C\n",
      "  >= 0.6 D\n",
      "  < 0.6 F"
     ]
    },
    {
     "cell_type": "markdown",
     "metadata": {},
     "source": [
      "If the user enters a value out of range, print a suitable error message and exit. For the test, enter a score of 0.85."
     ]
    },
    {
     "cell_type": "code",
     "collapsed": false,
     "input": [
      "score = float(raw_input(\"What's your score?\"))\n",
      "if score >= 0.9:\n",
      "    print \"A\"\n",
      "elif score >= 0.8:\n",
      "    print \"B\"\n",
      "elif score >= 0.7:\n",
      "    print \"C\"\n",
      "elif score >= 0.6:\n",
      "    print \"D\"\n",
      "else:\n",
      "    print \"F\""
     ],
     "language": "python",
     "metadata": {},
     "outputs": [
      {
       "output_type": "stream",
       "stream": "stdout",
       "text": [
        "B\n"
       ]
      }
     ],
     "prompt_number": 3
    },
    {
     "cell_type": "markdown",
     "metadata": {},
     "source": [
      "**Assignment 4.6**\n",
      "\n",
      "Write a program to prompt the user for hours and rate per hour using raw_input to compute gross pay. Award time-and-a-half for the hourly rate for all hours worked above 40 hours. Put the logic to do the computation of time-and-a-half in a function called computepay() and use the function to do the computation. The function should return a value. Use 45 hours and a rate of 10.50 per hour to test the program (the pay should be 498.75). You should use raw_input to read a string and float() to convert the string to a number. Do not worry about error checking the user input unless you want to - you can assume the user types numbers properly."
     ]
    },
    {
     "cell_type": "code",
     "collapsed": false,
     "input": [
      "def computepay(h,r):\n",
      "    if h >= 40:\n",
      "        e = (h-40) * r/2\n",
      "    return e + h * r\n",
      "    \n",
      "    return \n",
      "\n",
      "hrs = raw_input(\"Enter Hours:\")\n",
      "p = computepay(float(hrs),10.50)\n",
      "print p"
     ],
     "language": "python",
     "metadata": {},
     "outputs": []
    },
    {
     "cell_type": "markdown",
     "metadata": {},
     "source": [
      "**Assignment 5.2**\n",
      "\n",
      "Write a program that repeatedly prompts a user for integer numbers until the user enters 'done'. Once 'done' is entered, print out the largest and smallest of the numbers. If the user enters anything other than a valid number catch it with a try/except and put out an appropriate message and ignore the number. Enter the numbers from the book for problem 5.1 and Match the sample output below."
     ]
    },
    {
     "cell_type": "code",
     "collapsed": false,
     "input": [
      "largest = 0\n",
      "smallest = 10000\n",
      "while True:\n",
      "    try:\n",
      "        i = raw_input(\"Enter a number: \")\n",
      "        num = int(i)\n",
      "\n",
      "        if num > largest:\n",
      "            largest = num\n",
      "        \n",
      "        if num < smallest:\n",
      "            smallest = num\n",
      "\n",
      "    except:\n",
      "        if num == \"done\": \n",
      "            break\n",
      "        else:\n",
      "            print \"Invalid input\"\n",
      "            break\n",
      "        \n",
      "print \"Maximum is\", largest\n",
      "print \"Minimum is\", smallest"
     ],
     "language": "python",
     "metadata": {},
     "outputs": []
    }
   ],
   "metadata": {}
  }
 ]
}